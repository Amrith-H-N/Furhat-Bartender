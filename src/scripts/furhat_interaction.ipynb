{
 "cells": [
  {
   "cell_type": "markdown",
   "id": "a8f2227d-2a39-471e-97b0-e35567c85592",
   "metadata": {},
   "source": [
    "Furhat bartender  A  User Perception  sub-system"
   ]
  },
  {
   "cell_type": "code",
   "execution_count": null,
   "id": "b2a96934",
   "metadata": {
    "vscode": {
     "languageId": "plaintext"
    }
   },
   "outputs": [],
   "source": [
    "import ollama\n",
    "from furhat_remote_api import FurhatRemoteAPI\n",
    "from langchain_ollama import OllamaLLM\n",
    "\n",
    "def main():\n",
    "    # Initialize Ollama LLM using LangChain\n",
    "    llm = OllamaLLM(model=\"llama3.1\")\n",
    "\n",
    "    # Connect to Furhat\n",
    "    furhat = FurhatRemoteAPI(\"localhost\")\n",
    "\n",
    "    # Get available voices (optional)\n",
    "    voices = furhat.get_voices()\n",
    "    print(\"Available voices:\", voices)\n",
    "\n",
    "    # Set up Furhat's appearance and voice\n",
    "    furhat.set_face(character=\"Isabel\", mask=\"adult\")\n",
    "    furhat.set_voice(name='Joanna')\n",
    "\n",
    "    # Initial greeting\n",
    "    furhat.say(text=\"Hi, I'm Furhat. I'm ready to help you!\", blocking=True)\n",
    "    furhat.gesture(name=\"Nod\")\n",
    "    furhat.gesture(name=\"Smile\")\n",
    "\n",
    "    # Main interaction loop\n",
    "    while True:\n",
    "        try:\n",
    "            # Ask a question to the user\n",
    "            furhat.say(text=\"What would you like to know?\", blocking=True)\n",
    "\n",
    "            # Listen to user's response\n",
    "            response = furhat.listen()\n",
    "\n",
    "            # Check if listening was successful\n",
    "            if response.success and response.message:\n",
    "                print(\"User said:\", response.message)\n",
    "\n",
    "                try:\n",
    "                    # Generate response using LangChain Ollama\n",
    "                    llm_response = llm.invoke(response.message)\n",
    "                    print(\"Ollama response:\", llm_response)\n",
    "\n",
    "                    # Have Furhat speak the response\n",
    "                    furhat.say(text=llm_response, blocking=True)\n",
    "\n",
    "                except Exception as ollama_error:\n",
    "                    error_message = \"Sorry, I encountered an error processing your request.\"\n",
    "                    furhat.say(text=error_message, blocking=True)\n",
    "                    print(f\"Ollama error: {ollama_error}\")\n",
    "\n",
    "            else:\n",
    "                furhat.say(text=\"I didn't catch that. Could you repeat?\", blocking=True)\n",
    "\n",
    "        except KeyboardInterrupt:\n",
    "            print(\"Conversation ended.\")\n",
    "            break\n",
    "        except Exception as e:\n",
    "            print(f\"An error occurred: {e}\")\n",
    "            furhat.say(text=\"Sorry, something went wrong.\", blocking=True)\n",
    "\n",
    "if __name__ == \"__main__\":\n",
    "    main()"
   ]
  }
 ],
 "metadata": {
  "kernelspec": {
   "display_name": "Python 3 (ipykernel)",
   "language": "python",
   "name": "python3"
  },
  "language_info": {
   "codemirror_mode": {
    "name": "ipython",
    "version": 3
   },
   "file_extension": ".py",
   "mimetype": "text/x-python",
   "name": "python",
   "nbconvert_exporter": "python",
   "pygments_lexer": "ipython3",
   "version": "3.12.7"
  }
 },
 "nbformat": 4,
 "nbformat_minor": 5
}
